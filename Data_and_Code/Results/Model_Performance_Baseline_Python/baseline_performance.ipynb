{
 "cells": [
  {
   "cell_type": "code",
   "execution_count": 1,
   "outputs": [],
   "source": [
    "%matplotlib inline\n",
    "import numpy as np\n",
    "import pandas as pd\n",
    "from mlxtend.feature_selection import SequentialFeatureSelector as SFS\n",
    "from lolopy.learners import RandomForestRegressor\n",
    "from sklearn.decomposition import PCA\n",
    "from sklearn.gaussian_process import GaussianProcessRegressor\n",
    "from sklearn.gaussian_process.kernels import RBF, ConstantKernel\n",
    "from sklearn.model_selection import GridSearchCV\n",
    "from sklearn.model_selection import cross_val_score\n",
    "from sklearn.pipeline import Pipeline\n",
    "from sklearn.pipeline import make_pipeline\n",
    "from sklearn.preprocessing import StandardScaler\n",
    "from sklearn.exceptions import ConvergenceWarning\n",
    "from sklearn.model_selection import ShuffleSplit\n",
    "\n",
    "import warnings\n",
    "\n",
    "warnings.filterwarnings('ignore', category=ConvergenceWarning)"
   ],
   "metadata": {
    "collapsed": false
   }
  },
  {
   "cell_type": "markdown",
   "source": [
    "Goal:\n",
    "\n",
    "* For each of the 9 datasets\n",
    "* For each of the algorithms (Simple Gauss, PCA Gauss, Tuned Gauss; Simple RF, PCA RF, Tuned RF)\n",
    "\n",
    "Determine the following R2 cross validation scores and the take the median over all datasets:"
   ],
   "metadata": {
    "collapsed": false
   }
  },
  {
   "cell_type": "code",
   "execution_count": 2,
   "outputs": [
    {
     "data": {
      "text/plain": "     Idx_Sample    SiO2   Al2O3  Fe2O3    CaO    MgO   Na2O  K2O    SO3  TiO2  \\\n0          1523  47.085  23.265  2.525  18.30  4.570  0.110  0.0  0.625   0.0   \n1          1539  52.295  24.571  3.215  12.58  3.242  0.154  0.0  0.515   0.0   \n2          1473  52.295  24.571  3.215  12.58  3.242  0.154  0.0  0.515   0.0   \n3          1433  47.085  23.265  2.525  18.30  4.570  0.110  0.0  0.625   0.0   \n4          1410  52.295  24.571  3.215  12.58  3.242  0.154  0.0  0.515   0.0   \n..          ...     ...     ...    ...    ...    ...    ...  ...    ...   ...   \n269        1711  42.040  33.600  4.000  12.73  0.000  0.000  0.0  0.000   0.0   \n270        1584  47.085  23.265  2.525  18.30  4.570  0.110  0.0  0.625   0.0   \n271        1476  52.295  24.571  3.215  12.58  3.242  0.154  0.0  0.515   0.0   \n272        1492  47.085  23.265  2.525  18.30  4.570  0.110  0.0  0.625   0.0   \n273        1509  52.295  24.571  3.215  12.58  3.242  0.154  0.0  0.515   0.0   \n\n     ...  NaOH (Dry)  Additional water  Superplasticizer  water -eff  \\\n0    ...   17.371429               0.0              15.2  125.427143   \n1    ...   22.125714               0.0              17.6  158.698571   \n2    ...   15.634286               0.0              15.2  113.796429   \n3    ...   22.628571               0.0              18.0  162.305357   \n4    ...   24.685714               0.0              18.0  176.078571   \n..   ...         ...               ...               ...         ...   \n269  ...   23.912000               0.0               0.0   78.461250   \n270  ...   21.394286               0.0              15.6  152.601429   \n271  ...   16.868571               0.0              16.4  122.780357   \n272  ...   15.222857               0.0              14.8  110.801786   \n273  ...   20.114286               0.0              17.6  145.231429   \n\n     Initial curing time (day)  Initial curing temp (C)  \\\n0                            0                       25   \n1                            0                       25   \n2                            0                       25   \n3                            0                       25   \n4                            0                       25   \n..                         ...                      ...   \n269                          1                       60   \n270                          0                       25   \n271                          0                       25   \n272                          0                       25   \n273                          0                       25   \n\n     Initial curing rest time (day)  Final curing temp (C)  \\\n0                                 1                     30   \n1                                 1                     30   \n2                                 1                     30   \n3                                 1                     30   \n4                                 1                     30   \n..                              ...                    ...   \n269                               2                     24   \n270                               1                     30   \n271                               1                     30   \n272                               1                     30   \n273                               1                     30   \n\n     Mixture CO2 (Na2SiO3 as solution)  28-d Cubic compressive strength (MPa)  \n0                           130.204069                                59.9800  \n1                           154.167954                                25.8800  \n2                           118.343726                                34.7900  \n3                           161.732571                                48.4967  \n4                           167.137714                                20.5882  \n..                                 ...                                    ...  \n269                         117.142053                                47.5800  \n270                         150.187886                                47.1300  \n271                         126.742011                                36.2400  \n272                         119.065577                                55.6200  \n273                         144.658926                                38.6600  \n\n[274 rows x 35 columns]",
      "text/html": "<div>\n<style scoped>\n    .dataframe tbody tr th:only-of-type {\n        vertical-align: middle;\n    }\n\n    .dataframe tbody tr th {\n        vertical-align: top;\n    }\n\n    .dataframe thead th {\n        text-align: right;\n    }\n</style>\n<table border=\"1\" class=\"dataframe\">\n  <thead>\n    <tr style=\"text-align: right;\">\n      <th></th>\n      <th>Idx_Sample</th>\n      <th>SiO2</th>\n      <th>Al2O3</th>\n      <th>Fe2O3</th>\n      <th>CaO</th>\n      <th>MgO</th>\n      <th>Na2O</th>\n      <th>K2O</th>\n      <th>SO3</th>\n      <th>TiO2</th>\n      <th>...</th>\n      <th>NaOH (Dry)</th>\n      <th>Additional water</th>\n      <th>Superplasticizer</th>\n      <th>water -eff</th>\n      <th>Initial curing time (day)</th>\n      <th>Initial curing temp (C)</th>\n      <th>Initial curing rest time (day)</th>\n      <th>Final curing temp (C)</th>\n      <th>Mixture CO2 (Na2SiO3 as solution)</th>\n      <th>28-d Cubic compressive strength (MPa)</th>\n    </tr>\n  </thead>\n  <tbody>\n    <tr>\n      <th>0</th>\n      <td>1523</td>\n      <td>47.085</td>\n      <td>23.265</td>\n      <td>2.525</td>\n      <td>18.30</td>\n      <td>4.570</td>\n      <td>0.110</td>\n      <td>0.0</td>\n      <td>0.625</td>\n      <td>0.0</td>\n      <td>...</td>\n      <td>17.371429</td>\n      <td>0.0</td>\n      <td>15.2</td>\n      <td>125.427143</td>\n      <td>0</td>\n      <td>25</td>\n      <td>1</td>\n      <td>30</td>\n      <td>130.204069</td>\n      <td>59.9800</td>\n    </tr>\n    <tr>\n      <th>1</th>\n      <td>1539</td>\n      <td>52.295</td>\n      <td>24.571</td>\n      <td>3.215</td>\n      <td>12.58</td>\n      <td>3.242</td>\n      <td>0.154</td>\n      <td>0.0</td>\n      <td>0.515</td>\n      <td>0.0</td>\n      <td>...</td>\n      <td>22.125714</td>\n      <td>0.0</td>\n      <td>17.6</td>\n      <td>158.698571</td>\n      <td>0</td>\n      <td>25</td>\n      <td>1</td>\n      <td>30</td>\n      <td>154.167954</td>\n      <td>25.8800</td>\n    </tr>\n    <tr>\n      <th>2</th>\n      <td>1473</td>\n      <td>52.295</td>\n      <td>24.571</td>\n      <td>3.215</td>\n      <td>12.58</td>\n      <td>3.242</td>\n      <td>0.154</td>\n      <td>0.0</td>\n      <td>0.515</td>\n      <td>0.0</td>\n      <td>...</td>\n      <td>15.634286</td>\n      <td>0.0</td>\n      <td>15.2</td>\n      <td>113.796429</td>\n      <td>0</td>\n      <td>25</td>\n      <td>1</td>\n      <td>30</td>\n      <td>118.343726</td>\n      <td>34.7900</td>\n    </tr>\n    <tr>\n      <th>3</th>\n      <td>1433</td>\n      <td>47.085</td>\n      <td>23.265</td>\n      <td>2.525</td>\n      <td>18.30</td>\n      <td>4.570</td>\n      <td>0.110</td>\n      <td>0.0</td>\n      <td>0.625</td>\n      <td>0.0</td>\n      <td>...</td>\n      <td>22.628571</td>\n      <td>0.0</td>\n      <td>18.0</td>\n      <td>162.305357</td>\n      <td>0</td>\n      <td>25</td>\n      <td>1</td>\n      <td>30</td>\n      <td>161.732571</td>\n      <td>48.4967</td>\n    </tr>\n    <tr>\n      <th>4</th>\n      <td>1410</td>\n      <td>52.295</td>\n      <td>24.571</td>\n      <td>3.215</td>\n      <td>12.58</td>\n      <td>3.242</td>\n      <td>0.154</td>\n      <td>0.0</td>\n      <td>0.515</td>\n      <td>0.0</td>\n      <td>...</td>\n      <td>24.685714</td>\n      <td>0.0</td>\n      <td>18.0</td>\n      <td>176.078571</td>\n      <td>0</td>\n      <td>25</td>\n      <td>1</td>\n      <td>30</td>\n      <td>167.137714</td>\n      <td>20.5882</td>\n    </tr>\n    <tr>\n      <th>...</th>\n      <td>...</td>\n      <td>...</td>\n      <td>...</td>\n      <td>...</td>\n      <td>...</td>\n      <td>...</td>\n      <td>...</td>\n      <td>...</td>\n      <td>...</td>\n      <td>...</td>\n      <td>...</td>\n      <td>...</td>\n      <td>...</td>\n      <td>...</td>\n      <td>...</td>\n      <td>...</td>\n      <td>...</td>\n      <td>...</td>\n      <td>...</td>\n      <td>...</td>\n      <td>...</td>\n    </tr>\n    <tr>\n      <th>269</th>\n      <td>1711</td>\n      <td>42.040</td>\n      <td>33.600</td>\n      <td>4.000</td>\n      <td>12.73</td>\n      <td>0.000</td>\n      <td>0.000</td>\n      <td>0.0</td>\n      <td>0.000</td>\n      <td>0.0</td>\n      <td>...</td>\n      <td>23.912000</td>\n      <td>0.0</td>\n      <td>0.0</td>\n      <td>78.461250</td>\n      <td>1</td>\n      <td>60</td>\n      <td>2</td>\n      <td>24</td>\n      <td>117.142053</td>\n      <td>47.5800</td>\n    </tr>\n    <tr>\n      <th>270</th>\n      <td>1584</td>\n      <td>47.085</td>\n      <td>23.265</td>\n      <td>2.525</td>\n      <td>18.30</td>\n      <td>4.570</td>\n      <td>0.110</td>\n      <td>0.0</td>\n      <td>0.625</td>\n      <td>0.0</td>\n      <td>...</td>\n      <td>21.394286</td>\n      <td>0.0</td>\n      <td>15.6</td>\n      <td>152.601429</td>\n      <td>0</td>\n      <td>25</td>\n      <td>1</td>\n      <td>30</td>\n      <td>150.187886</td>\n      <td>47.1300</td>\n    </tr>\n    <tr>\n      <th>271</th>\n      <td>1476</td>\n      <td>52.295</td>\n      <td>24.571</td>\n      <td>3.215</td>\n      <td>12.58</td>\n      <td>3.242</td>\n      <td>0.154</td>\n      <td>0.0</td>\n      <td>0.515</td>\n      <td>0.0</td>\n      <td>...</td>\n      <td>16.868571</td>\n      <td>0.0</td>\n      <td>16.4</td>\n      <td>122.780357</td>\n      <td>0</td>\n      <td>25</td>\n      <td>1</td>\n      <td>30</td>\n      <td>126.742011</td>\n      <td>36.2400</td>\n    </tr>\n    <tr>\n      <th>272</th>\n      <td>1492</td>\n      <td>47.085</td>\n      <td>23.265</td>\n      <td>2.525</td>\n      <td>18.30</td>\n      <td>4.570</td>\n      <td>0.110</td>\n      <td>0.0</td>\n      <td>0.625</td>\n      <td>0.0</td>\n      <td>...</td>\n      <td>15.222857</td>\n      <td>0.0</td>\n      <td>14.8</td>\n      <td>110.801786</td>\n      <td>0</td>\n      <td>25</td>\n      <td>1</td>\n      <td>30</td>\n      <td>119.065577</td>\n      <td>55.6200</td>\n    </tr>\n    <tr>\n      <th>273</th>\n      <td>1509</td>\n      <td>52.295</td>\n      <td>24.571</td>\n      <td>3.215</td>\n      <td>12.58</td>\n      <td>3.242</td>\n      <td>0.154</td>\n      <td>0.0</td>\n      <td>0.515</td>\n      <td>0.0</td>\n      <td>...</td>\n      <td>20.114286</td>\n      <td>0.0</td>\n      <td>17.6</td>\n      <td>145.231429</td>\n      <td>0</td>\n      <td>25</td>\n      <td>1</td>\n      <td>30</td>\n      <td>144.658926</td>\n      <td>38.6600</td>\n    </tr>\n  </tbody>\n</table>\n<p>274 rows × 35 columns</p>\n</div>"
     },
     "execution_count": 2,
     "metadata": {},
     "output_type": "execute_result"
    }
   ],
   "source": [
    "data_path = '../data/'\n",
    "\n",
    "# Adjust in case you want to run this notebook on another dataset\n",
    "dataset = 'DS_cube_150_2_Strength.csv'\n",
    "filename = data_path + dataset\n",
    "full_path = filename\n",
    "\n",
    "df = pd.read_csv(full_path)\n",
    "df = df.sample(frac=1).reset_index(drop=True)\n",
    "\n",
    "df"
   ],
   "metadata": {
    "collapsed": false
   }
  },
  {
   "cell_type": "code",
   "execution_count": null,
   "outputs": [],
   "source": [
    "# Adjust target in case you want to run this notebook on another dataset\n",
    "target_column = '28-d Cubic compressive strength (MPa)'\n",
    "X_train = df.drop(columns=[target_column, 'Idx_Sample', 'Mixture CO2 (Na2SiO3 as solution)'], axis=1)\n",
    "y_train = StandardScaler().fit_transform(df[target_column].copy().to_numpy().reshape(-1, 1))\n",
    "y_train"
   ],
   "metadata": {
    "collapsed": false
   }
  },
  {
   "cell_type": "code",
   "execution_count": null,
   "outputs": [],
   "source": [
    "# Simple Gauss\n",
    "default_kernel = ConstantKernel(1.0, (1e-3, 1e3)) * RBF(10, (1e-2, 1e2))\n",
    "gauss_from_slamd = make_pipeline(StandardScaler(),\n",
    "                                 GaussianProcessRegressor(kernel=default_kernel, n_restarts_optimizer=3))\n",
    "\n",
    "scores_gauss_simple_r2 = cross_val_score(gauss_from_slamd, X_train, y_train, scoring='r2', cv=ShuffleSplit(n_splits=25, train_size=0.7))\n",
    "print('#### SIMPLE GAUSS PREDICTION SCORES ####')\n",
    "print('# R2 #')\n",
    "print(f'Scores: {scores_gauss_simple_r2}')\n",
    "print(f'Mean: {scores_gauss_simple_r2.mean()}')\n",
    "print(f'Std: {scores_gauss_simple_r2.std()}')"
   ],
   "metadata": {
    "collapsed": false
   }
  },
  {
   "cell_type": "code",
   "execution_count": null,
   "outputs": [],
   "source": [
    "# Gauss with PCA\n",
    "gauss_pca = make_pipeline(StandardScaler(), PCA(n_components=0.99), GaussianProcessRegressor(n_restarts_optimizer=3))\n",
    "scores_gauss_pca_r2 = cross_val_score(gauss_pca, X_train, y_train, scoring='r2', cv=ShuffleSplit(n_splits=25, train_size=0.7))\n",
    "print('#### PCA GAUSS WITH DEFAULT KERNEL PREDICTION SCORES ####')\n",
    "print('# R2 #')\n",
    "print(f'Scores: {scores_gauss_pca_r2}')\n",
    "print(f'Mean: {scores_gauss_pca_r2.mean()}')\n",
    "print(f'Std: {scores_gauss_pca_r2.std()}')"
   ],
   "metadata": {
    "collapsed": false
   }
  },
  {
   "cell_type": "code",
   "execution_count": null,
   "outputs": [],
   "source": [
    "# TUNED GAUSS ALGORITHM - setup\n",
    "\n",
    "default_kernel = ConstantKernel(1.0, constant_value_bounds=\"fixed\") * RBF(1.0, length_scale_bounds=\"fixed\")\n",
    "\n",
    "def _create_aniso_kernel(n_dims):\n",
    "    return ConstantKernel(1.0, constant_value_bounds=\"fixed\") * RBF(length_scale=[1] * n_dims)\n",
    "\n",
    "param_grid = {\n",
    "    'sfs__k_features': [8],\n",
    "    'gp2__kernel': [default_kernel, _create_aniso_kernel(8)]\n",
    "}\n",
    "\n",
    "gauss1 = GaussianProcessRegressor(normalize_y=True, n_restarts_optimizer=3)\n",
    "gauss2 = GaussianProcessRegressor(normalize_y=True, n_restarts_optimizer=3)\n",
    "\n",
    "sfs_gr_testing = SFS(estimator=gauss1,\n",
    "                     forward=True,\n",
    "                     floating=False,\n",
    "                     scoring='r2',\n",
    "                     cv=None)\n",
    "\n",
    "pipe = Pipeline([('std', StandardScaler()),\n",
    "                 ('sfs', sfs_gr_testing),\n",
    "                 ('gp2', gauss2)])\n",
    "\n",
    "grid_search_cv = GridSearchCV(estimator=pipe,\n",
    "                              param_grid=param_grid,\n",
    "                              scoring='r2',\n",
    "                              n_jobs=1,\n",
    "                              cv=5,\n",
    "                              refit=False)"
   ],
   "metadata": {
    "collapsed": false
   }
  },
  {
   "cell_type": "code",
   "execution_count": null,
   "outputs": [],
   "source": [
    "# TUNED GAUSS ALGORITHM - run gridsearch\n",
    "grid_search_cv = grid_search_cv.fit(X_train, y_train)\n",
    "\n",
    "print('#### GAUSS TUNING RESULTS ####')\n",
    "\n",
    "#best_grid = grid_search_cv.best_params_\n",
    "for i in range(len(grid_search_cv.cv_results_['params'])):\n",
    "    #if grid_search_cv.cv_results_['params'] == grid_search_cv.best_params_:\n",
    "    print(\" -------------- NEXT GRID RESULTS -------------------------\")\n",
    "    print(grid_search_cv.cv_results_['params'][i], 'test acc.:', grid_search_cv.cv_results_['mean_test_score'][i])\n",
    "    print(grid_search_cv.cv_results_['params'][i], 'test std.:', grid_search_cv.cv_results_['std_test_score'][i])\n",
    "\n",
    "print(\"BEST PARAMETERS VIA GRIDSEARCH\", grid_search_cv.best_params_)\n",
    "\n",
    "best_estimator = pipe.set_params(**grid_search_cv.best_params_)\n",
    "\n",
    "scores_gauss_tuned_r2 = cross_val_score(best_estimator, X_train, y_train, scoring='r2', cv=ShuffleSplit(n_splits=25, train_size=0.7))\n",
    "print('#### TUNED GAUSS PREDICTION SCORES ####')\n",
    "print('# R2 #')\n",
    "print(f'Scores: {scores_gauss_tuned_r2}')\n",
    "print(f'Mean: {scores_gauss_tuned_r2.mean()}')\n",
    "print(f'Std: {scores_gauss_tuned_r2.std()}')"
   ],
   "metadata": {
    "collapsed": false
   }
  },
  {
   "cell_type": "code",
   "execution_count": null,
   "outputs": [],
   "source": [
    "class SlamdLoloRF(RandomForestRegressor):\n",
    "\n",
    "    def fit(self, X, y, weigths=None, random_seed=42):\n",
    "        if y.shape[0] < 8:\n",
    "            X = np.tile(X, (4, 1))\n",
    "            y = np.tile(y, (4, 1))\n",
    "        super().fit(X, y, weigths, random_seed)"
   ],
   "metadata": {
    "collapsed": false
   }
  },
  {
   "cell_type": "code",
   "execution_count": null,
   "outputs": [],
   "source": [
    "# Simple RF\n",
    "rf_from_slamd = make_pipeline(StandardScaler(), SlamdLoloRF())\n",
    "scores_rf_simple_r2 = cross_val_score(rf_from_slamd, X_train, y_train, scoring='r2', cv=ShuffleSplit(n_splits=25, train_size=0.7))\n",
    "\n",
    "rf_from_slamd.fit(X_train, y_train)\n",
    "\n",
    "print('#### SIMPLE RF PREDICTION SCORES ####')\n",
    "print('# R2 #')\n",
    "print(f'Scores: {scores_rf_simple_r2}')\n",
    "print(f'Mean: {scores_rf_simple_r2.mean()}')\n",
    "print(f'Std: {scores_rf_simple_r2.std()}')"
   ],
   "metadata": {
    "collapsed": false
   }
  },
  {
   "cell_type": "code",
   "execution_count": null,
   "outputs": [],
   "source": [
    "# RF with PCA\n",
    "rf_pca = make_pipeline(StandardScaler(), PCA(n_components=0.99), SlamdLoloRF())\n",
    "scores_rf_pca_r2 = cross_val_score(rf_pca, X_train, y_train, scoring='r2', cv=ShuffleSplit(n_splits=25, train_size=0.7))\n",
    "print('#### PCA RF PREDICTION SCORES ####')\n",
    "print('# R2 #')\n",
    "print(f'Scores: {scores_rf_pca_r2}')\n",
    "print(f'Mean: {scores_rf_pca_r2.mean()}')\n",
    "print(f'Std: {scores_rf_pca_r2.std()}')"
   ],
   "metadata": {
    "collapsed": false
   }
  },
  {
   "cell_type": "code",
   "execution_count": null,
   "outputs": [],
   "source": [
    "# TUNED RF ALGORITHM - setup\n",
    "\n",
    "rf1 = SlamdLoloRF()\n",
    "rf2 = SlamdLoloRF()\n",
    "\n",
    "param_grid = {\n",
    "    'sfs__k_features': [8],\n",
    "    'rf2__max_depth': [1, 5],\n",
    "}\n",
    "\n",
    "sfs_rf_testing = SFS(estimator=rf1,\n",
    "                     forward=True,\n",
    "                     floating=False,\n",
    "                     scoring='r2',\n",
    "                     cv=None)\n",
    "\n",
    "pipe = Pipeline([('std', StandardScaler()),\n",
    "                 ('sfs', sfs_rf_testing),\n",
    "                 ('rf2', rf2)])\n",
    "\n",
    "grid_search_cv = GridSearchCV(estimator=pipe,\n",
    "                              param_grid=param_grid,\n",
    "                              scoring='r2',\n",
    "                              n_jobs=1,\n",
    "                              cv=5,\n",
    "                              refit=False)"
   ],
   "metadata": {
    "collapsed": false
   }
  },
  {
   "cell_type": "code",
   "execution_count": null,
   "outputs": [],
   "source": [
    "# TUNED RF ALGORITHM - run gridsearch\n",
    "grid_search_cv = grid_search_cv.fit(X_train, y_train)\n",
    "\n",
    "print('#### RF TUNING RESULTS ####')\n",
    "\n",
    "#best_grid = grid_search_cv.best_params_\n",
    "for i in range(len(grid_search_cv.cv_results_['params'])):\n",
    "    #if grid_search_cv.cv_results_['params'] == grid_search_cv.best_params_:\n",
    "    print(\" -------------- NEXT GRID RESULTS -------------------------\")\n",
    "    print(grid_search_cv.cv_results_['params'][i], 'test acc.:', grid_search_cv.cv_results_['mean_test_score'][i])\n",
    "    print(grid_search_cv.cv_results_['params'][i], 'test std.:', grid_search_cv.cv_results_['std_test_score'][i])\n",
    "\n",
    "print(\"BEST PARAMETERS VIA GRIDSEARCH\", grid_search_cv.best_params_)\n",
    "\n",
    "best_estimator = pipe.set_params(**grid_search_cv.best_params_)\n",
    "\n",
    "scores_rf_tuned_r2 = cross_val_score(best_estimator, X_train, y_train, scoring='r2', cv=ShuffleSplit(n_splits=25, train_size=0.7))\n",
    "print('#### PCA RF PREDICTION SCORES ####')\n",
    "print('# R2 #')\n",
    "print(f'Scores: {scores_rf_tuned_r2}')\n",
    "print(f'Mean: {scores_rf_tuned_r2.mean()}')\n",
    "print(f'Std: {scores_rf_tuned_r2.std()}')"
   ],
   "metadata": {
    "collapsed": false
   }
  },
  {
   "cell_type": "code",
   "execution_count": null,
   "outputs": [],
   "source": [
    "print('All outputs in CSV format (copy them into a file):')\n",
    "print(\n",
    "    'dataset,gauss_simple_r2_mean,gauss_simple_r2_std,'\n",
    "    'gauss_pca_r2_mean,gauss_pca_r2_std,'\n",
    "    'gauss_tuned_r2_mean,gauss_tuned_r2_std,'\n",
    "    'rf_simple_r2_mean,rf_simple_r2_std,'\n",
    "    'rf_pca_r2_mean,rf_pca_r2_std,'\n",
    "    'rf_tuned_r2_mean,rf_tuned_r2_std'\n",
    "    )\n",
    "print(\n",
    "    f'{dataset},{scores_gauss_simple_r2.mean()},{scores_gauss_simple_r2.std()},'\n",
    "    f'{scores_gauss_pca_r2.mean()},{scores_gauss_pca_r2.std()},'\n",
    "    f'{scores_gauss_tuned_r2.mean()},{scores_gauss_tuned_r2.std()},'\n",
    "    f'{scores_rf_simple_r2.mean()},{scores_rf_simple_r2.std()},'\n",
    "    f'{scores_rf_pca_r2.mean()},{scores_rf_pca_r2.std()}'\n",
    "    f'{scores_rf_tuned_r2.mean()},{scores_rf_tuned_r2.std()}'\n",
    ")\n"
   ],
   "metadata": {
    "collapsed": false
   }
  },
  {
   "cell_type": "code",
   "execution_count": 3,
   "outputs": [
    {
     "name": "stdout",
     "output_type": "stream",
     "text": [
      "<class 'pandas.core.frame.DataFrame'>\n",
      "RangeIndex: 9 entries, 0 to 8\n",
      "Data columns (total 13 columns):\n",
      " #   Column                Non-Null Count  Dtype  \n",
      "---  ------                --------------  -----  \n",
      " 0   dataset               9 non-null      object \n",
      " 1   gauss_simple_r2_mean  9 non-null      float64\n",
      " 2   gauss_simple_r2_std   9 non-null      float64\n",
      " 3   gauss_pca_r2_mean     9 non-null      float64\n",
      " 4   gauss_pca_r2_std      9 non-null      float64\n",
      " 5   gauss_tuned_r2_mean   9 non-null      float64\n",
      " 6   gauss_tuned_r2_std    9 non-null      float64\n",
      " 7   rf_simple_r2_mean     9 non-null      float64\n",
      " 8   rf_simple_r2_std      9 non-null      float64\n",
      " 9   rf_pca_r2_mean        9 non-null      float64\n",
      " 10  rf_pca_r2_std         9 non-null      float64\n",
      " 11  rf_tuned_r2_mean      9 non-null      float64\n",
      " 12  rf_tuned_r2_std       9 non-null      float64\n",
      "dtypes: float64(12), object(1)\n",
      "memory usage: 1.0+ KB\n"
     ]
    }
   ],
   "source": [
    "results_df = pd.read_csv('../results/baseline/baseline_results_70_30.csv')\n",
    "results_df.info()\n"
   ],
   "metadata": {
    "collapsed": false
   }
  },
  {
   "cell_type": "code",
   "execution_count": 4,
   "outputs": [
    {
     "data": {
      "text/plain": "                               gauss_simple_r2_mean  gauss_pca_r2_mean  \\\ndataset                                                                  \nDS_cube_100_1_Strength.csv                 0.166192           0.345226   \nDS_cube_100_2_Strength.csv                 0.051853           0.406616   \nDS_cube_100_3_Strength.csv                 0.136376           0.647587   \nDS_cube_100_4_Strength.csv                 0.103441           0.454574   \nDS_cube_100_5_Strength.csv                 0.053141           0.435745   \nDS_cube_150_2_Strength.csv                 0.111745          -4.024819   \nDS_cyl_100x200_1_Strength.csv             -0.096577          -1.073853   \nDS_cyl_100x200_2_Strength.csv             -0.048253           0.219595   \nDS_cyl_100x200_3_Strength.csv             -0.014470           0.040151   \n\n                               gauss_tuned_r2_mean  rf_simple_r2_mean  \\\ndataset                                                                 \nDS_cube_100_1_Strength.csv                0.528039           0.916934   \nDS_cube_100_2_Strength.csv                0.080654           0.693609   \nDS_cube_100_3_Strength.csv                0.143160           0.858953   \nDS_cube_100_4_Strength.csv                0.093934           0.787500   \nDS_cube_100_5_Strength.csv                0.079125           0.805169   \nDS_cube_150_2_Strength.csv                0.445924           0.920297   \nDS_cyl_100x200_1_Strength.csv            -1.046272           0.602808   \nDS_cyl_100x200_2_Strength.csv            -0.047949           0.358973   \nDS_cyl_100x200_3_Strength.csv            -0.067393           0.342442   \n\n                               rf_pca_r2_mean  rf_tuned_r2_mean  \ndataset                                                          \nDS_cube_100_1_Strength.csv           0.924070          0.910466  \nDS_cube_100_2_Strength.csv           0.679875          0.634943  \nDS_cube_100_3_Strength.csv           0.771145          0.779053  \nDS_cube_100_4_Strength.csv           0.703432          0.692283  \nDS_cube_100_5_Strength.csv           0.768302          0.763874  \nDS_cube_150_2_Strength.csv           0.851566          0.891842  \nDS_cyl_100x200_1_Strength.csv        0.452736          0.500272  \nDS_cyl_100x200_2_Strength.csv        0.257855          0.422785  \nDS_cyl_100x200_3_Strength.csv        0.203142          0.139566  ",
      "text/html": "<div>\n<style scoped>\n    .dataframe tbody tr th:only-of-type {\n        vertical-align: middle;\n    }\n\n    .dataframe tbody tr th {\n        vertical-align: top;\n    }\n\n    .dataframe thead th {\n        text-align: right;\n    }\n</style>\n<table border=\"1\" class=\"dataframe\">\n  <thead>\n    <tr style=\"text-align: right;\">\n      <th></th>\n      <th>gauss_simple_r2_mean</th>\n      <th>gauss_pca_r2_mean</th>\n      <th>gauss_tuned_r2_mean</th>\n      <th>rf_simple_r2_mean</th>\n      <th>rf_pca_r2_mean</th>\n      <th>rf_tuned_r2_mean</th>\n    </tr>\n    <tr>\n      <th>dataset</th>\n      <th></th>\n      <th></th>\n      <th></th>\n      <th></th>\n      <th></th>\n      <th></th>\n    </tr>\n  </thead>\n  <tbody>\n    <tr>\n      <th>DS_cube_100_1_Strength.csv</th>\n      <td>0.166192</td>\n      <td>0.345226</td>\n      <td>0.528039</td>\n      <td>0.916934</td>\n      <td>0.924070</td>\n      <td>0.910466</td>\n    </tr>\n    <tr>\n      <th>DS_cube_100_2_Strength.csv</th>\n      <td>0.051853</td>\n      <td>0.406616</td>\n      <td>0.080654</td>\n      <td>0.693609</td>\n      <td>0.679875</td>\n      <td>0.634943</td>\n    </tr>\n    <tr>\n      <th>DS_cube_100_3_Strength.csv</th>\n      <td>0.136376</td>\n      <td>0.647587</td>\n      <td>0.143160</td>\n      <td>0.858953</td>\n      <td>0.771145</td>\n      <td>0.779053</td>\n    </tr>\n    <tr>\n      <th>DS_cube_100_4_Strength.csv</th>\n      <td>0.103441</td>\n      <td>0.454574</td>\n      <td>0.093934</td>\n      <td>0.787500</td>\n      <td>0.703432</td>\n      <td>0.692283</td>\n    </tr>\n    <tr>\n      <th>DS_cube_100_5_Strength.csv</th>\n      <td>0.053141</td>\n      <td>0.435745</td>\n      <td>0.079125</td>\n      <td>0.805169</td>\n      <td>0.768302</td>\n      <td>0.763874</td>\n    </tr>\n    <tr>\n      <th>DS_cube_150_2_Strength.csv</th>\n      <td>0.111745</td>\n      <td>-4.024819</td>\n      <td>0.445924</td>\n      <td>0.920297</td>\n      <td>0.851566</td>\n      <td>0.891842</td>\n    </tr>\n    <tr>\n      <th>DS_cyl_100x200_1_Strength.csv</th>\n      <td>-0.096577</td>\n      <td>-1.073853</td>\n      <td>-1.046272</td>\n      <td>0.602808</td>\n      <td>0.452736</td>\n      <td>0.500272</td>\n    </tr>\n    <tr>\n      <th>DS_cyl_100x200_2_Strength.csv</th>\n      <td>-0.048253</td>\n      <td>0.219595</td>\n      <td>-0.047949</td>\n      <td>0.358973</td>\n      <td>0.257855</td>\n      <td>0.422785</td>\n    </tr>\n    <tr>\n      <th>DS_cyl_100x200_3_Strength.csv</th>\n      <td>-0.014470</td>\n      <td>0.040151</td>\n      <td>-0.067393</td>\n      <td>0.342442</td>\n      <td>0.203142</td>\n      <td>0.139566</td>\n    </tr>\n  </tbody>\n</table>\n</div>"
     },
     "execution_count": 4,
     "metadata": {},
     "output_type": "execute_result"
    }
   ],
   "source": [
    "r2_results_df = results_df[['gauss_simple_r2_mean', 'gauss_pca_r2_mean', 'gauss_tuned_r2_mean', 'rf_simple_r2_mean', 'rf_pca_r2_mean',\n",
    "            'rf_tuned_r2_mean']]\n",
    "r2_results_df.index = results_df['dataset']\n",
    "r2_results_df"
   ],
   "metadata": {
    "collapsed": false
   }
  },
  {
   "cell_type": "code",
   "execution_count": 5,
   "outputs": [
    {
     "name": "stdout",
     "output_type": "stream",
     "text": [
      "Median of  gauss_simple_r2_mean 0.053141209018329\n",
      "Median of  gauss_pca_r2_mean 0.3452256349462761\n",
      "Median of  gauss_tuned_r2_mean 0.0806539686244807\n",
      "Median of  rf_simple_r2_mean 0.7874996191170959\n",
      "Median of  rf_pca_r2_mean 0.7034315391513977\n",
      "Median of  rf_tuned_r2_mean 0.6922834424450391\n"
     ]
    }
   ],
   "source": [
    "for col in r2_results_df.columns:\n",
    "    print(\"Median of \", col, r2_results_df[col].median())"
   ],
   "metadata": {
    "collapsed": false
   }
  }
 ],
 "metadata": {
  "kernelspec": {
   "display_name": "Python 3",
   "language": "python",
   "name": "python3"
  },
  "language_info": {
   "codemirror_mode": {
    "name": "ipython",
    "version": 2
   },
   "file_extension": ".py",
   "mimetype": "text/x-python",
   "name": "python",
   "nbconvert_exporter": "python",
   "pygments_lexer": "ipython2",
   "version": "2.7.6"
  }
 },
 "nbformat": 4,
 "nbformat_minor": 0
}
